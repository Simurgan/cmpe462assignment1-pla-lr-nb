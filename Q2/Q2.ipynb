{
 "cells": [
  {
   "cell_type": "code",
   "execution_count": 1,
   "metadata": {},
   "outputs": [],
   "source": [
    "from ucimlrepo import fetch_ucirepo"
   ]
  },
  {
   "cell_type": "code",
   "execution_count": 2,
   "metadata": {},
   "outputs": [],
   "source": [
    "# fetch dataset \n",
    "rice = fetch_ucirepo(id=545)"
   ]
  },
  {
   "cell_type": "code",
   "execution_count": 8,
   "metadata": {},
   "outputs": [
    {
     "name": "stdout",
     "output_type": "stream",
     "text": [
      "(3810, 8)\n",
      "      Area  Perimeter  Major_Axis_Length  Minor_Axis_Length  Eccentricity  \\\n",
      "3201  9598      397.0          172.00679          72.283646      0.907414   \n",
      "\n",
      "      Convex_Area    Extent     Class  \n",
      "3201         9766  0.796845  Osmancik  \n"
     ]
    }
   ],
   "source": [
    "from logistic_regression import LogisticRegression\n",
    "model = LogisticRegression(rice[\"data\"][\"original\"])\n",
    "print(rice[\"data\"][\"original\"].shape)\n",
    "print(rice[\"data\"][\"original\"].sample(1))"
   ]
  },
  {
   "cell_type": "markdown",
   "metadata": {},
   "source": [
    "## Feature distributions before normalization\n",
    "We have rendered the distribution graphs of the features in the folder feature_graphs with high resolution. You can check them below or also render them by calling the plot_feature method of 'model'."
   ]
  },
  {
   "cell_type": "code",
   "execution_count": 4,
   "metadata": {},
   "outputs": [],
   "source": [
    "# model.plot_feature(0)\n",
    "# model.plot_feature(1)\n",
    "# model.plot_feature(2)\n",
    "# model.plot_feature(3)\n",
    "# model.plot_feature(4)\n",
    "# model.plot_feature(5)\n",
    "# model.plot_feature(6)"
   ]
  },
  {
   "cell_type": "markdown",
   "metadata": {},
   "source": [
    "### Distribution of feature 0 (Area)\n",
    "![Distribution of feature 0 (Area)](feature_graphs/feature0_distribution.png)\n",
    "### Distribution of feature 1 (Perimeter)\n",
    "![Distribution of feature 1 (Perimeter)](feature_graphs/feature1_distribution.png)\n",
    "### Distribution of feature 2 (Major_Axis_Length)\n",
    "![Distribution of feature 2 (Major_Axis_Length)](feature_graphs/feature2_distribution.png)\n",
    "### Distribution of feature 3 (Minor_Axis_Length)\n",
    "![Distribution of feature 3 (Minor_Axis_Length)](feature_graphs/feature3_distribution.png)\n",
    "### Distribution of feature 4 (Eccentricity)\n",
    "![Distribution of feature 4 (Eccentricity)](feature_graphs/feature4_distribution.png)\n",
    "### Distribution of feature 5 (Convex_Area)\n",
    "![Distribution of feature 5 (Convex_Area)](feature_graphs/feature5_distribution.png)\n",
    "### Distribution of feature 6 (Extent)\n",
    "![Distribution of feature 6 (Extent)](feature_graphs/feature6_distribution.png)"
   ]
  },
  {
   "cell_type": "markdown",
   "metadata": {},
   "source": [
    "## Clipping\n",
    "We decided to clip the outliers from 0th, 3rd, 4th, and 5th features (area, minor_axis_length, eccentricity, and convex_area)."
   ]
  },
  {
   "cell_type": "code",
   "execution_count": 5,
   "metadata": {},
   "outputs": [],
   "source": [
    "model.clip_feature(0, 8459, 17663)\n",
    "model.clip_feature(3, 67.7, 104)\n",
    "model.clip_feature(4, 0.825, 0.935)\n",
    "model.clip_feature(5, 8519, 17961)"
   ]
  },
  {
   "cell_type": "code",
   "execution_count": null,
   "metadata": {},
   "outputs": [],
   "source": [
    "model.plot_feature(0)\n",
    "model.plot_feature(1)\n",
    "model.plot_feature(2)\n",
    "model.plot_feature(3)\n",
    "model.plot_feature(4)\n",
    "model.plot_feature(5)\n",
    "model.plot_feature(6)"
   ]
  },
  {
   "cell_type": "markdown",
   "metadata": {},
   "source": [
    "## Scaling\n",
    "Now, we will scale all features between 0 and 1."
   ]
  },
  {
   "cell_type": "code",
   "execution_count": 7,
   "metadata": {},
   "outputs": [],
   "source": [
    "model.scale_features()"
   ]
  },
  {
   "cell_type": "markdown",
   "metadata": {},
   "source": [
    "## Training"
   ]
  },
  {
   "cell_type": "markdown",
   "metadata": {},
   "source": [
    "Let's tain now"
   ]
  },
  {
   "cell_type": "code",
   "execution_count": null,
   "metadata": {},
   "outputs": [],
   "source": [
    "model."
   ]
  }
 ],
 "metadata": {
  "kernelspec": {
   "display_name": "ML",
   "language": "python",
   "name": "ml"
  },
  "language_info": {
   "codemirror_mode": {
    "name": "ipython",
    "version": 3
   },
   "file_extension": ".py",
   "mimetype": "text/x-python",
   "name": "python",
   "nbconvert_exporter": "python",
   "pygments_lexer": "ipython3",
   "version": "3.12.2"
  }
 },
 "nbformat": 4,
 "nbformat_minor": 2
}
