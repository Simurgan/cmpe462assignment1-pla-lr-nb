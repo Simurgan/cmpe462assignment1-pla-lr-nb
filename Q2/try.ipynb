{
 "cells": [
  {
   "cell_type": "code",
   "execution_count": null,
   "metadata": {},
   "outputs": [],
   "source": [
    "from ucimlrepo import fetch_ucirepo\n",
    "rice = fetch_ucirepo(id=545)\n",
    "from logistic_regression import LogisticRegression\n",
    "model = LogisticRegression(rice[\"data\"][\"original\"])"
   ]
  },
  {
   "cell_type": "code",
   "execution_count": null,
   "metadata": {},
   "outputs": [],
   "source": [
    "model.clip_feature(0, 8459, 17663)\n",
    "model.clip_feature(3, 67.7, 104)\n",
    "model.clip_feature(4, 0.825, 0.935)\n",
    "model.clip_feature(5, 8519, 17961)\n",
    "model.scale_features()"
   ]
  },
  {
   "cell_type": "code",
   "execution_count": null,
   "metadata": {},
   "outputs": [],
   "source": [
    "model.split_data()"
   ]
  }
 ],
 "metadata": {
  "kernelspec": {
   "display_name": "assenv",
   "language": "python",
   "name": "python3"
  },
  "language_info": {
   "codemirror_mode": {
    "name": "ipython",
    "version": 3
   },
   "file_extension": ".py",
   "mimetype": "text/x-python",
   "name": "python",
   "nbconvert_exporter": "python",
   "pygments_lexer": "ipython3",
   "version": "3.11.7"
  }
 },
 "nbformat": 4,
 "nbformat_minor": 2
}
